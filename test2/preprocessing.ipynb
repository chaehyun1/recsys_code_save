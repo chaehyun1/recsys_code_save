{
 "cells": [
  {
   "cell_type": "code",
   "execution_count": 1,
   "metadata": {},
   "outputs": [],
   "source": [
    "import numpy as np\n",
    "import pandas as pd"
   ]
  },
  {
   "cell_type": "code",
   "execution_count": 5,
   "metadata": {},
   "outputs": [],
   "source": [
    "category = \"Baby\"\n",
    "data_path = f\"./data/meta_{category}.json\""
   ]
  },
  {
   "cell_type": "code",
   "execution_count": 9,
   "metadata": {},
   "outputs": [],
   "source": [
    "import json\n",
    "\n",
    "def safe_eval_line(line):\n",
    "    try:\n",
    "        return eval(line)\n",
    "    except Exception:\n",
    "        return None\n",
    "\n",
    "def filter_json_lines_eval(input_path, output_path):\n",
    "    with open(input_path, \"r\", encoding=\"utf-8\") as infile, open(output_path, \"w\", encoding=\"utf-8\") as outfile:\n",
    "        for line in infile:\n",
    "            item = safe_eval_line(line)\n",
    "            if not item:\n",
    "                continue\n",
    "            if all(k in item and item[k] for k in [\"description\", \"categories\", \"title\", \"brand\"]):\n",
    "                json.dump(item, outfile)\n",
    "                outfile.write(\"\\n\")\n",
    "\n",
    "\n",
    "\n",
    "filter_json_lines_eval(data_path, f\"./data/{category}_filtered.json\")\n"
   ]
  },
  {
   "cell_type": "code",
   "execution_count": null,
   "metadata": {},
   "outputs": [],
   "source": []
  }
 ],
 "metadata": {
  "kernelspec": {
   "display_name": "ch_test",
   "language": "python",
   "name": "python3"
  },
  "language_info": {
   "codemirror_mode": {
    "name": "ipython",
    "version": 3
   },
   "file_extension": ".py",
   "mimetype": "text/x-python",
   "name": "python",
   "nbconvert_exporter": "python",
   "pygments_lexer": "ipython3",
   "version": "3.10.18"
  }
 },
 "nbformat": 4,
 "nbformat_minor": 2
}
